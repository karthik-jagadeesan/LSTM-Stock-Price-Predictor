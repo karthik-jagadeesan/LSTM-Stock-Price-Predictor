{
  "nbformat": 4,
  "nbformat_minor": 0,
  "metadata": {
    "colab": {
      "name": "TimeSeriesForecast.ipynb",
      "provenance": [],
      "collapsed_sections": [],
      "toc_visible": true
    },
    "kernelspec": {
      "name": "python3",
      "display_name": "Python 3"
    }
  },
  "cells": [
    {
      "cell_type": "markdown",
      "metadata": {
        "id": "ycWzxFWfHtnZ",
        "colab_type": "text"
      },
      "source": [
        "# Time Series Predictions using Deep Learning"
      ]
    },
    {
      "cell_type": "markdown",
      "metadata": {
        "id": "uGERlkMgHznZ",
        "colab_type": "text"
      },
      "source": [
        "## Technical Indicators to consider\n",
        "\n",
        "The Technical Indicators are:\n",
        "- RSI\n",
        "  - $RSI_{step1} = 100 - \\frac{100}{1 + \\frac{Average Gain}{Average Loss}}$\n",
        "- Stochastic K\n",
        "  - $K\\% = \\frac{C - L14}{H14 - L14} * 100$\n",
        "- MACD\n",
        "- CCI\n",
        "  - $CCI = \\frac{1}{0.015} * \\frac{p_t - SMA(p_t)}{MD(p_t)}$\n",
        "  - Here, $p_t = \\frac{p_{high} + p_{low} + p_{close}}{3}$\n",
        "  \n",
        "- ATR\n",
        "- Bollinger Bands\n",
        "\n"
      ]
    },
    {
      "cell_type": "markdown",
      "metadata": {
        "id": "CDE2iFTPNVfG",
        "colab_type": "text"
      },
      "source": [
        ""
      ]
    },
    {
      "cell_type": "code",
      "metadata": {
        "id": "H4DyZnfrWJxY",
        "colab_type": "code",
        "colab": {
          "base_uri": "https://localhost:8080/",
          "height": 561
        },
        "outputId": "7473ed92-fec0-4ecf-b927-6c4f0e0ef633"
      },
      "source": [
        "!pip install alpha_vantage"
      ],
      "execution_count": null,
      "outputs": [
        {
          "output_type": "stream",
          "text": [
            "Collecting alpha_vantage\n",
            "  Downloading https://files.pythonhosted.org/packages/12/e3/72ec32d859a363c2eebaa42e0d4abb5ac7172a7a77a2307576ceb5fc1b42/alpha_vantage-2.2.0.tar.gz\n",
            "Collecting aiohttp\n",
            "\u001b[?25l  Downloading https://files.pythonhosted.org/packages/7c/39/7eb5f98d24904e0f6d3edb505d4aa60e3ef83c0a58d6fe18244a51757247/aiohttp-3.6.2-cp36-cp36m-manylinux1_x86_64.whl (1.2MB)\n",
            "\u001b[K     |████████████████████████████████| 1.2MB 5.0MB/s \n",
            "\u001b[?25hRequirement already satisfied: requests in /usr/local/lib/python3.6/dist-packages (from alpha_vantage) (2.23.0)\n",
            "Requirement already satisfied: attrs>=17.3.0 in /usr/local/lib/python3.6/dist-packages (from aiohttp->alpha_vantage) (19.3.0)\n",
            "Collecting yarl<2.0,>=1.0\n",
            "\u001b[?25l  Downloading https://files.pythonhosted.org/packages/95/8f/0209fc5d975f839344c33c822ff2f7ef80f6b1e984673a5a68f960bfa583/yarl-1.4.2-cp36-cp36m-manylinux1_x86_64.whl (252kB)\n",
            "\u001b[K     |████████████████████████████████| 256kB 14.8MB/s \n",
            "\u001b[?25hCollecting async-timeout<4.0,>=3.0\n",
            "  Downloading https://files.pythonhosted.org/packages/e1/1e/5a4441be21b0726c4464f3f23c8b19628372f606755a9d2e46c187e65ec4/async_timeout-3.0.1-py3-none-any.whl\n",
            "Collecting multidict<5.0,>=4.5\n",
            "\u001b[?25l  Downloading https://files.pythonhosted.org/packages/1a/95/f50352b5366e7d579e8b99631680a9e32e1b22adfa1629a8f23b1d22d5e2/multidict-4.7.6-cp36-cp36m-manylinux1_x86_64.whl (148kB)\n",
            "\u001b[K     |████████████████████████████████| 153kB 21.3MB/s \n",
            "\u001b[?25hCollecting idna-ssl>=1.0; python_version < \"3.7\"\n",
            "  Downloading https://files.pythonhosted.org/packages/46/03/07c4894aae38b0de52b52586b24bf189bb83e4ddabfe2e2c8f2419eec6f4/idna-ssl-1.1.0.tar.gz\n",
            "Requirement already satisfied: chardet<4.0,>=2.0 in /usr/local/lib/python3.6/dist-packages (from aiohttp->alpha_vantage) (3.0.4)\n",
            "Requirement already satisfied: typing-extensions>=3.6.5; python_version < \"3.7\" in /usr/local/lib/python3.6/dist-packages (from aiohttp->alpha_vantage) (3.6.6)\n",
            "Requirement already satisfied: certifi>=2017.4.17 in /usr/local/lib/python3.6/dist-packages (from requests->alpha_vantage) (2020.6.20)\n",
            "Requirement already satisfied: idna<3,>=2.5 in /usr/local/lib/python3.6/dist-packages (from requests->alpha_vantage) (2.9)\n",
            "Requirement already satisfied: urllib3!=1.25.0,!=1.25.1,<1.26,>=1.21.1 in /usr/local/lib/python3.6/dist-packages (from requests->alpha_vantage) (1.24.3)\n",
            "Building wheels for collected packages: alpha-vantage, idna-ssl\n",
            "  Building wheel for alpha-vantage (setup.py) ... \u001b[?25l\u001b[?25hdone\n",
            "  Created wheel for alpha-vantage: filename=alpha_vantage-2.2.0-cp36-none-any.whl size=25705 sha256=ae1bf702c4068f702de19b601749fc277118a970166346bd73c6e84cc607cddb\n",
            "  Stored in directory: /root/.cache/pip/wheels/3a/fa/05/80b0afcbd2a4de8bd2a0c5cd77084e3d3a9cc12c48be9b7f84\n",
            "  Building wheel for idna-ssl (setup.py) ... \u001b[?25l\u001b[?25hdone\n",
            "  Created wheel for idna-ssl: filename=idna_ssl-1.1.0-cp36-none-any.whl size=3162 sha256=2dde67af7df552eee4a914a04cdb1f3c62172f15b9cda3bb891a39bd531f5dbe\n",
            "  Stored in directory: /root/.cache/pip/wheels/d3/00/b3/32d613e19e08a739751dd6bf998cfed277728f8b2127ad4eb7\n",
            "Successfully built alpha-vantage idna-ssl\n",
            "Installing collected packages: multidict, yarl, async-timeout, idna-ssl, aiohttp, alpha-vantage\n",
            "Successfully installed aiohttp-3.6.2 alpha-vantage-2.2.0 async-timeout-3.0.1 idna-ssl-1.1.0 multidict-4.7.6 yarl-1.4.2\n"
          ],
          "name": "stdout"
        }
      ]
    },
    {
      "cell_type": "code",
      "metadata": {
        "id": "pMDRSRcmXV5N",
        "colab_type": "code",
        "colab": {
          "base_uri": "https://localhost:8080/",
          "height": 542
        },
        "outputId": "4729d198-c5ad-4dc9-86b7-4842720ec692"
      },
      "source": [
        "import pandas as pd\n",
        "import numpy as np\n",
        "from alpha_vantage.techindicators import TechIndicators\n",
        "from alpha_vantage.timeseries import TimeSeries\n",
        "\n",
        "import plotly.express as px\n",
        "\n",
        "df = px.data.gapminder().query(\"country=='Canada'\")\n",
        "fig = px.line(df, x=\"year\", y=\"lifeExp\", title='Life expectancy in Canada')\n",
        "fig.show()\n",
        "\n",
        "import time"
      ],
      "execution_count": null,
      "outputs": [
        {
          "output_type": "display_data",
          "data": {
            "text/html": [
              "<html>\n",
              "<head><meta charset=\"utf-8\" /></head>\n",
              "<body>\n",
              "    <div>\n",
              "            <script src=\"https://cdnjs.cloudflare.com/ajax/libs/mathjax/2.7.5/MathJax.js?config=TeX-AMS-MML_SVG\"></script><script type=\"text/javascript\">if (window.MathJax) {MathJax.Hub.Config({SVG: {font: \"STIX-Web\"}});}</script>\n",
              "                <script type=\"text/javascript\">window.PlotlyConfig = {MathJaxConfig: 'local'};</script>\n",
              "        <script src=\"https://cdn.plot.ly/plotly-latest.min.js\"></script>    \n",
              "            <div id=\"323c8c4f-dd29-42a8-86ee-7347888253f4\" class=\"plotly-graph-div\" style=\"height:525px; width:100%;\"></div>\n",
              "            <script type=\"text/javascript\">\n",
              "                \n",
              "                    window.PLOTLYENV=window.PLOTLYENV || {};\n",
              "                    \n",
              "                if (document.getElementById(\"323c8c4f-dd29-42a8-86ee-7347888253f4\")) {\n",
              "                    Plotly.newPlot(\n",
              "                        '323c8c4f-dd29-42a8-86ee-7347888253f4',\n",
              "                        [{\"hoverlabel\": {\"namelength\": 0}, \"hovertemplate\": \"year=%{x}<br>lifeExp=%{y}\", \"legendgroup\": \"\", \"line\": {\"color\": \"#636efa\", \"dash\": \"solid\"}, \"mode\": \"lines\", \"name\": \"\", \"showlegend\": false, \"type\": \"scatter\", \"x\": [1952, 1957, 1962, 1967, 1972, 1977, 1982, 1987, 1992, 1997, 2002, 2007], \"xaxis\": \"x\", \"y\": [68.75, 69.96, 71.3, 72.13, 72.88, 74.21, 75.76, 76.86, 77.95, 78.61, 79.77, 80.653], \"yaxis\": \"y\"}],\n",
              "                        {\"legend\": {\"tracegroupgap\": 0}, \"template\": {\"data\": {\"bar\": [{\"error_x\": {\"color\": \"#2a3f5f\"}, \"error_y\": {\"color\": \"#2a3f5f\"}, \"marker\": {\"line\": {\"color\": \"#E5ECF6\", \"width\": 0.5}}, \"type\": \"bar\"}], \"barpolar\": [{\"marker\": {\"line\": {\"color\": \"#E5ECF6\", \"width\": 0.5}}, \"type\": \"barpolar\"}], \"carpet\": [{\"aaxis\": {\"endlinecolor\": \"#2a3f5f\", \"gridcolor\": \"white\", \"linecolor\": \"white\", \"minorgridcolor\": \"white\", \"startlinecolor\": \"#2a3f5f\"}, \"baxis\": {\"endlinecolor\": \"#2a3f5f\", \"gridcolor\": \"white\", \"linecolor\": \"white\", \"minorgridcolor\": \"white\", \"startlinecolor\": \"#2a3f5f\"}, \"type\": \"carpet\"}], \"choropleth\": [{\"colorbar\": {\"outlinewidth\": 0, \"ticks\": \"\"}, \"type\": \"choropleth\"}], \"contour\": [{\"colorbar\": {\"outlinewidth\": 0, \"ticks\": \"\"}, \"colorscale\": [[0.0, \"#0d0887\"], [0.1111111111111111, \"#46039f\"], [0.2222222222222222, \"#7201a8\"], [0.3333333333333333, \"#9c179e\"], [0.4444444444444444, \"#bd3786\"], [0.5555555555555556, \"#d8576b\"], [0.6666666666666666, \"#ed7953\"], [0.7777777777777778, \"#fb9f3a\"], [0.8888888888888888, \"#fdca26\"], [1.0, \"#f0f921\"]], \"type\": \"contour\"}], \"contourcarpet\": [{\"colorbar\": {\"outlinewidth\": 0, \"ticks\": \"\"}, \"type\": \"contourcarpet\"}], \"heatmap\": [{\"colorbar\": {\"outlinewidth\": 0, \"ticks\": \"\"}, \"colorscale\": [[0.0, \"#0d0887\"], [0.1111111111111111, \"#46039f\"], [0.2222222222222222, \"#7201a8\"], [0.3333333333333333, \"#9c179e\"], [0.4444444444444444, \"#bd3786\"], [0.5555555555555556, \"#d8576b\"], [0.6666666666666666, \"#ed7953\"], [0.7777777777777778, \"#fb9f3a\"], [0.8888888888888888, \"#fdca26\"], [1.0, \"#f0f921\"]], \"type\": \"heatmap\"}], \"heatmapgl\": [{\"colorbar\": {\"outlinewidth\": 0, \"ticks\": \"\"}, \"colorscale\": [[0.0, \"#0d0887\"], [0.1111111111111111, \"#46039f\"], [0.2222222222222222, \"#7201a8\"], [0.3333333333333333, \"#9c179e\"], [0.4444444444444444, \"#bd3786\"], [0.5555555555555556, \"#d8576b\"], [0.6666666666666666, \"#ed7953\"], [0.7777777777777778, \"#fb9f3a\"], [0.8888888888888888, \"#fdca26\"], [1.0, \"#f0f921\"]], \"type\": \"heatmapgl\"}], \"histogram\": [{\"marker\": {\"colorbar\": {\"outlinewidth\": 0, \"ticks\": \"\"}}, \"type\": \"histogram\"}], \"histogram2d\": [{\"colorbar\": {\"outlinewidth\": 0, \"ticks\": \"\"}, \"colorscale\": [[0.0, \"#0d0887\"], [0.1111111111111111, \"#46039f\"], [0.2222222222222222, \"#7201a8\"], [0.3333333333333333, \"#9c179e\"], [0.4444444444444444, \"#bd3786\"], [0.5555555555555556, \"#d8576b\"], [0.6666666666666666, \"#ed7953\"], [0.7777777777777778, \"#fb9f3a\"], [0.8888888888888888, \"#fdca26\"], [1.0, \"#f0f921\"]], \"type\": \"histogram2d\"}], \"histogram2dcontour\": [{\"colorbar\": {\"outlinewidth\": 0, \"ticks\": \"\"}, \"colorscale\": [[0.0, \"#0d0887\"], [0.1111111111111111, \"#46039f\"], [0.2222222222222222, \"#7201a8\"], [0.3333333333333333, \"#9c179e\"], [0.4444444444444444, \"#bd3786\"], [0.5555555555555556, \"#d8576b\"], [0.6666666666666666, \"#ed7953\"], [0.7777777777777778, \"#fb9f3a\"], [0.8888888888888888, \"#fdca26\"], [1.0, \"#f0f921\"]], \"type\": \"histogram2dcontour\"}], \"mesh3d\": [{\"colorbar\": {\"outlinewidth\": 0, \"ticks\": \"\"}, \"type\": \"mesh3d\"}], \"parcoords\": [{\"line\": {\"colorbar\": {\"outlinewidth\": 0, \"ticks\": \"\"}}, \"type\": \"parcoords\"}], \"pie\": [{\"automargin\": true, \"type\": \"pie\"}], \"scatter\": [{\"marker\": {\"colorbar\": {\"outlinewidth\": 0, \"ticks\": \"\"}}, \"type\": \"scatter\"}], \"scatter3d\": [{\"line\": {\"colorbar\": {\"outlinewidth\": 0, \"ticks\": \"\"}}, \"marker\": {\"colorbar\": {\"outlinewidth\": 0, \"ticks\": \"\"}}, \"type\": \"scatter3d\"}], \"scattercarpet\": [{\"marker\": {\"colorbar\": {\"outlinewidth\": 0, \"ticks\": \"\"}}, \"type\": \"scattercarpet\"}], \"scattergeo\": [{\"marker\": {\"colorbar\": {\"outlinewidth\": 0, \"ticks\": \"\"}}, \"type\": \"scattergeo\"}], \"scattergl\": [{\"marker\": {\"colorbar\": {\"outlinewidth\": 0, \"ticks\": \"\"}}, \"type\": \"scattergl\"}], \"scattermapbox\": [{\"marker\": {\"colorbar\": {\"outlinewidth\": 0, \"ticks\": \"\"}}, \"type\": \"scattermapbox\"}], \"scatterpolar\": [{\"marker\": {\"colorbar\": {\"outlinewidth\": 0, \"ticks\": \"\"}}, \"type\": \"scatterpolar\"}], \"scatterpolargl\": [{\"marker\": {\"colorbar\": {\"outlinewidth\": 0, \"ticks\": \"\"}}, \"type\": \"scatterpolargl\"}], \"scatterternary\": [{\"marker\": {\"colorbar\": {\"outlinewidth\": 0, \"ticks\": \"\"}}, \"type\": \"scatterternary\"}], \"surface\": [{\"colorbar\": {\"outlinewidth\": 0, \"ticks\": \"\"}, \"colorscale\": [[0.0, \"#0d0887\"], [0.1111111111111111, \"#46039f\"], [0.2222222222222222, \"#7201a8\"], [0.3333333333333333, \"#9c179e\"], [0.4444444444444444, \"#bd3786\"], [0.5555555555555556, \"#d8576b\"], [0.6666666666666666, \"#ed7953\"], [0.7777777777777778, \"#fb9f3a\"], [0.8888888888888888, \"#fdca26\"], [1.0, \"#f0f921\"]], \"type\": \"surface\"}], \"table\": [{\"cells\": {\"fill\": {\"color\": \"#EBF0F8\"}, \"line\": {\"color\": \"white\"}}, \"header\": {\"fill\": {\"color\": \"#C8D4E3\"}, \"line\": {\"color\": \"white\"}}, \"type\": \"table\"}]}, \"layout\": {\"annotationdefaults\": {\"arrowcolor\": \"#2a3f5f\", \"arrowhead\": 0, \"arrowwidth\": 1}, \"coloraxis\": {\"colorbar\": {\"outlinewidth\": 0, \"ticks\": \"\"}}, \"colorscale\": {\"diverging\": [[0, \"#8e0152\"], [0.1, \"#c51b7d\"], [0.2, \"#de77ae\"], [0.3, \"#f1b6da\"], [0.4, \"#fde0ef\"], [0.5, \"#f7f7f7\"], [0.6, \"#e6f5d0\"], [0.7, \"#b8e186\"], [0.8, \"#7fbc41\"], [0.9, \"#4d9221\"], [1, \"#276419\"]], \"sequential\": [[0.0, \"#0d0887\"], [0.1111111111111111, \"#46039f\"], [0.2222222222222222, \"#7201a8\"], [0.3333333333333333, \"#9c179e\"], [0.4444444444444444, \"#bd3786\"], [0.5555555555555556, \"#d8576b\"], [0.6666666666666666, \"#ed7953\"], [0.7777777777777778, \"#fb9f3a\"], [0.8888888888888888, \"#fdca26\"], [1.0, \"#f0f921\"]], \"sequentialminus\": [[0.0, \"#0d0887\"], [0.1111111111111111, \"#46039f\"], [0.2222222222222222, \"#7201a8\"], [0.3333333333333333, \"#9c179e\"], [0.4444444444444444, \"#bd3786\"], [0.5555555555555556, \"#d8576b\"], [0.6666666666666666, \"#ed7953\"], [0.7777777777777778, \"#fb9f3a\"], [0.8888888888888888, \"#fdca26\"], [1.0, \"#f0f921\"]]}, \"colorway\": [\"#636efa\", \"#EF553B\", \"#00cc96\", \"#ab63fa\", \"#FFA15A\", \"#19d3f3\", \"#FF6692\", \"#B6E880\", \"#FF97FF\", \"#FECB52\"], \"font\": {\"color\": \"#2a3f5f\"}, \"geo\": {\"bgcolor\": \"white\", \"lakecolor\": \"white\", \"landcolor\": \"#E5ECF6\", \"showlakes\": true, \"showland\": true, \"subunitcolor\": \"white\"}, \"hoverlabel\": {\"align\": \"left\"}, \"hovermode\": \"closest\", \"mapbox\": {\"style\": \"light\"}, \"paper_bgcolor\": \"white\", \"plot_bgcolor\": \"#E5ECF6\", \"polar\": {\"angularaxis\": {\"gridcolor\": \"white\", \"linecolor\": \"white\", \"ticks\": \"\"}, \"bgcolor\": \"#E5ECF6\", \"radialaxis\": {\"gridcolor\": \"white\", \"linecolor\": \"white\", \"ticks\": \"\"}}, \"scene\": {\"xaxis\": {\"backgroundcolor\": \"#E5ECF6\", \"gridcolor\": \"white\", \"gridwidth\": 2, \"linecolor\": \"white\", \"showbackground\": true, \"ticks\": \"\", \"zerolinecolor\": \"white\"}, \"yaxis\": {\"backgroundcolor\": \"#E5ECF6\", \"gridcolor\": \"white\", \"gridwidth\": 2, \"linecolor\": \"white\", \"showbackground\": true, \"ticks\": \"\", \"zerolinecolor\": \"white\"}, \"zaxis\": {\"backgroundcolor\": \"#E5ECF6\", \"gridcolor\": \"white\", \"gridwidth\": 2, \"linecolor\": \"white\", \"showbackground\": true, \"ticks\": \"\", \"zerolinecolor\": \"white\"}}, \"shapedefaults\": {\"line\": {\"color\": \"#2a3f5f\"}}, \"ternary\": {\"aaxis\": {\"gridcolor\": \"white\", \"linecolor\": \"white\", \"ticks\": \"\"}, \"baxis\": {\"gridcolor\": \"white\", \"linecolor\": \"white\", \"ticks\": \"\"}, \"bgcolor\": \"#E5ECF6\", \"caxis\": {\"gridcolor\": \"white\", \"linecolor\": \"white\", \"ticks\": \"\"}}, \"title\": {\"x\": 0.05}, \"xaxis\": {\"automargin\": true, \"gridcolor\": \"white\", \"linecolor\": \"white\", \"ticks\": \"\", \"title\": {\"standoff\": 15}, \"zerolinecolor\": \"white\", \"zerolinewidth\": 2}, \"yaxis\": {\"automargin\": true, \"gridcolor\": \"white\", \"linecolor\": \"white\", \"ticks\": \"\", \"title\": {\"standoff\": 15}, \"zerolinecolor\": \"white\", \"zerolinewidth\": 2}}}, \"title\": {\"text\": \"Life expectancy in Canada\"}, \"xaxis\": {\"anchor\": \"y\", \"domain\": [0.0, 1.0], \"title\": {\"text\": \"year\"}}, \"yaxis\": {\"anchor\": \"x\", \"domain\": [0.0, 1.0], \"title\": {\"text\": \"lifeExp\"}}},\n",
              "                        {\"responsive\": true}\n",
              "                    ).then(function(){\n",
              "                            \n",
              "var gd = document.getElementById('323c8c4f-dd29-42a8-86ee-7347888253f4');\n",
              "var x = new MutationObserver(function (mutations, observer) {{\n",
              "        var display = window.getComputedStyle(gd).display;\n",
              "        if (!display || display === 'none') {{\n",
              "            console.log([gd, 'removed!']);\n",
              "            Plotly.purge(gd);\n",
              "            observer.disconnect();\n",
              "        }}\n",
              "}});\n",
              "\n",
              "// Listen for the removal of the full notebook cells\n",
              "var notebookContainer = gd.closest('#notebook-container');\n",
              "if (notebookContainer) {{\n",
              "    x.observe(notebookContainer, {childList: true});\n",
              "}}\n",
              "\n",
              "// Listen for the clearing of the current output cell\n",
              "var outputEl = gd.closest('.output');\n",
              "if (outputEl) {{\n",
              "    x.observe(outputEl, {childList: true});\n",
              "}}\n",
              "\n",
              "                        })\n",
              "                };\n",
              "                \n",
              "            </script>\n",
              "        </div>\n",
              "</body>\n",
              "</html>"
            ]
          },
          "metadata": {
            "tags": []
          }
        }
      ]
    },
    {
      "cell_type": "code",
      "metadata": {
        "id": "LiC6RIW2X5RK",
        "colab_type": "code",
        "colab": {}
      },
      "source": [
        "# Constants\n",
        "API_SECRET = \"644PPK94BTG0W6XS\"\n",
        "ibm_fpath = \"C:\\\\Users\\\\ADMIN\\\\Desktop\\\\CQF-Project\\\\CQF_Elective__Machine_Learning_with_Python_-_Python_Notebooks\\\\karthik_jagadeesan_DL_LSTM_Project\\\\ibm.csv\""
      ],
      "execution_count": null,
      "outputs": []
    },
    {
      "cell_type": "code",
      "metadata": {
        "id": "S0VSPLMJXqVZ",
        "colab_type": "code",
        "colab": {}
      },
      "source": [
        "b = TechIndicators(key = API_SECRET, output_format = 'pandas')\n",
        "rsi = b.get_rsi(symbol = \"IBM\", interval = \"daily\", time_period = 14)"
      ],
      "execution_count": null,
      "outputs": []
    },
    {
      "cell_type": "code",
      "metadata": {
        "id": "VmBQc62OYFgd",
        "colab_type": "code",
        "colab": {}
      },
      "source": [
        "def get_df(security):\n",
        "  b = TechIndicators(key = API_SECRET, output_format = \"pandas\")\n",
        "  sma = b.get_sma(symbol=security, interval = 'daily', time_period = 14)[0]\n",
        "  ema = b.get_ema(symbol=security, interval = 'daily', time_period = 14)[0]\n",
        "  rsi = b.get_rsi(symbol=security, interval = 'daily', time_period = 14)[0]\n",
        "  bbands = b.get_bbands(symbol=security)[0]\n",
        "\n",
        "  time.sleep(65)\n",
        "  \n",
        "  #k = b.get_stoch(symbol = security, interval = \"daily\")[0]\n",
        "  macd = b.get_macd(symbol=security)[0]\n",
        "  cci = b.get_cci(symbol=security)[0]\n",
        "  atr = b.get_atr(symbol=security)[0]\n",
        "  \n",
        "  d = TimeSeries(key = API_SECRET, output_format = \"pandas\")\n",
        "  daily = d.get_daily(symbol = security, outputsize=\"full\")[0]\n",
        "\n",
        "  df = pd.concat([sma, ema, rsi, bbands, macd, cci, atr, daily], axis = 1, sort = True)\n",
        "  return df"
      ],
      "execution_count": null,
      "outputs": []
    },
    {
      "cell_type": "code",
      "metadata": {
        "id": "2hSVj1hbYYYC",
        "colab_type": "code",
        "colab": {}
      },
      "source": [
        "df = get_df(\"IBM\")"
      ],
      "execution_count": null,
      "outputs": []
    },
    {
      "cell_type": "code",
      "metadata": {
        "id": "VZuqDFvCbvD7",
        "colab_type": "code",
        "colab": {}
      },
      "source": [
        "df = df.dropna()"
      ],
      "execution_count": null,
      "outputs": []
    },
    {
      "cell_type": "code",
      "metadata": {
        "id": "S_K_Vt86b8D1",
        "colab_type": "code",
        "colab": {
          "base_uri": "https://localhost:8080/",
          "height": 85
        },
        "outputId": "d8c5edac-3740-4395-f3a1-a51369ac28b9"
      },
      "source": [
        "df.keys()"
      ],
      "execution_count": null,
      "outputs": [
        {
          "output_type": "execute_result",
          "data": {
            "text/plain": [
              "Index(['SMA', 'EMA', 'RSI', 'Real Upper Band', 'Real Lower Band',\n",
              "       'Real Middle Band', 'MACD', 'MACD_Hist', 'MACD_Signal', 'CCI', 'ATR',\n",
              "       '1. open', '2. high', '3. low', '4. close', '5. volume'],\n",
              "      dtype='object')"
            ]
          },
          "metadata": {
            "tags": []
          },
          "execution_count": 8
        }
      ]
    },
    {
      "cell_type": "code",
      "metadata": {
        "id": "mo5f5YGd7d_R",
        "colab_type": "code",
        "colab": {}
      },
      "source": [
        "seen = set()\n",
        "cols = ['SMA', 'EMA', 'RSI', 'Real Upper Band', 'Real Lower Band','Real Middle Band', 'MACD', 'MACD_Hist', 'MACD_Signal', 'CCI', 'ATR','1. open', '2. high', '3. low', '4. close', '5. volume']\n",
        "for c_i in cols:\n",
        "  for c_j in cols:\n",
        "    if c_j is not c_i:\n",
        "      pair = {c_i, c_j}\n",
        "\n",
        "      if tuple(pair) not in seen:\n",
        "        df.plot.scatter(x = c_i, y = c_j)\n",
        "        seen.add(tuple(pair))"
      ],
      "execution_count": null,
      "outputs": []
    },
    {
      "cell_type": "code",
      "metadata": {
        "id": "f--4m8SM-IGr",
        "colab_type": "code",
        "colab": {
          "base_uri": "https://localhost:8080/",
          "height": 34
        },
        "outputId": "a5600606-e4a6-454e-d0b9-9d93a8948db1"
      },
      "source": [
        "len(df.keys()) "
      ],
      "execution_count": null,
      "outputs": [
        {
          "output_type": "execute_result",
          "data": {
            "text/plain": [
              "16"
            ]
          },
          "metadata": {
            "tags": []
          },
          "execution_count": 10
        }
      ]
    },
    {
      "cell_type": "code",
      "metadata": {
        "id": "Hem9V70mRVF-",
        "colab_type": "code",
        "colab": {}
      },
      "source": [
        "df.to_csv(\"./ibm.csv\")"
      ],
      "execution_count": null,
      "outputs": []
    },
    {
      "cell_type": "code",
      "metadata": {
        "id": "k5wf5OyMZjmQ",
        "colab_type": "code",
        "colab": {}
      },
      "source": [
        "ibm_df = pd.read_csv(\"./ibm.csv\")\n",
        "#ibm_df[\"label\"] = np.sign(ibm_df[\"4. close\"] - ibm_df[\"4. close\"].shift(1))\n",
        "ibm_df = ibm_df.dropna()"
      ],
      "execution_count": null,
      "outputs": []
    },
    {
      "cell_type": "code",
      "metadata": {
        "id": "7ZDMx0hmUBDi",
        "colab_type": "code",
        "colab": {}
      },
      "source": [
        "from sklearn.model_selection import train_test_split\n",
        "from sklearn.preprocessing import MinMaxScaler\n",
        "\n",
        "dataset = ibm_df.to_numpy()[:, 1:]\n",
        "# Do not shuffle time series data unless you want bad results!\n",
        "train_data, test_data = train_test_split(dataset, train_size = 0.8, test_size = 0.2, shuffle = False)"
      ],
      "execution_count": null,
      "outputs": []
    },
    {
      "cell_type": "code",
      "metadata": {
        "id": "c9R4P_pIVZtE",
        "colab_type": "code",
        "colab": {
          "base_uri": "https://localhost:8080/",
          "height": 153
        },
        "outputId": "ca94186d-435b-47aa-ea87-4f1d915c4d0a"
      },
      "source": [
        "train_data"
      ],
      "execution_count": null,
      "outputs": [
        {
          "output_type": "execute_result",
          "data": {
            "text/plain": [
              "array([[121.1236, 120.5601, 71.9518, ..., 122.69, 124.81, 5988300.0],\n",
              "       [122.03, 121.6854, 77.0049, ..., 124.25, 129.0, 8279000.0],\n",
              "       [122.9321, 122.994, 79.3907, ..., 129.75, 131.5, 8536600.0],\n",
              "       ...,\n",
              "       [154.265, 155.6907, 66.8229, ..., 158.73, 159.86, 6716340.0],\n",
              "       [155.2564, 156.2092, 65.8009, ..., 157.89, 159.58, 7119917.0],\n",
              "       [156.1779, 156.89600000000002, 69.0424, ..., 159.6, 161.36,\n",
              "        4373609.0]], dtype=object)"
            ]
          },
          "metadata": {
            "tags": []
          },
          "execution_count": 14
        }
      ]
    },
    {
      "cell_type": "code",
      "metadata": {
        "id": "morrci_Kg_i2",
        "colab_type": "code",
        "colab": {
          "base_uri": "https://localhost:8080/",
          "height": 34
        },
        "outputId": "36eb9d64-eef7-439d-9f6b-8643de2ec26f"
      },
      "source": [
        "scaler = MinMaxScaler()\n",
        "scaled_train_data = scaler.fit_transform(train_data)\n",
        "scaled_test_data = scaler.transform(test_data)\n",
        "\n",
        "scaled_train_data[0, -2]"
      ],
      "execution_count": null,
      "outputs": [
        {
          "output_type": "execute_result",
          "data": {
            "text/plain": [
              "0.4338953524544266"
            ]
          },
          "metadata": {
            "tags": []
          },
          "execution_count": 15
        }
      ]
    },
    {
      "cell_type": "code",
      "metadata": {
        "id": "T4rMGA6CjCnt",
        "colab_type": "code",
        "colab": {}
      },
      "source": [
        "# Building the array\n",
        "X_train = []\n",
        "y_train = []\n",
        "timesteps = 60\n",
        "\n",
        "for i in range(timesteps, len(scaled_train_data)):\n",
        "  X_train.append(scaled_train_data[i - timesteps:i, :])\n",
        "  y_train.append(scaled_train_data[i, -2])\n",
        "\n",
        "X_train, y_train = np.array(X_train), np.array(y_train)"
      ],
      "execution_count": null,
      "outputs": []
    },
    {
      "cell_type": "code",
      "metadata": {
        "id": "4kbNo-g_joVt",
        "colab_type": "code",
        "colab": {
          "base_uri": "https://localhost:8080/",
          "height": 34
        },
        "outputId": "e2de38e4-e8cb-48e6-e227-8ea99645895f"
      },
      "source": [
        "#X_train[60][0][-2] == y_train[0]\n",
        "y_train.shape"
      ],
      "execution_count": null,
      "outputs": [
        {
          "output_type": "execute_result",
          "data": {
            "text/plain": [
              "(3940,)"
            ]
          },
          "metadata": {
            "tags": []
          },
          "execution_count": 17
        }
      ]
    },
    {
      "cell_type": "code",
      "metadata": {
        "id": "2BRTd1J5jqzR",
        "colab_type": "code",
        "colab": {
          "base_uri": "https://localhost:8080/",
          "height": 34
        },
        "outputId": "7ebe98b7-c176-447d-eec6-4f038d848c40"
      },
      "source": [
        "X_train.shape"
      ],
      "execution_count": null,
      "outputs": [
        {
          "output_type": "execute_result",
          "data": {
            "text/plain": [
              "(3940, 60, 16)"
            ]
          },
          "metadata": {
            "tags": []
          },
          "execution_count": 18
        }
      ]
    },
    {
      "cell_type": "markdown",
      "metadata": {
        "id": "anwp1HMyqba4",
        "colab_type": "text"
      },
      "source": [
        "Building the LSTM Model\n"
      ]
    },
    {
      "cell_type": "code",
      "metadata": {
        "id": "qxrdwoCpqYW2",
        "colab_type": "code",
        "colab": {
          "base_uri": "https://localhost:8080/",
          "height": 34
        },
        "outputId": "788e0136-5373-43c9-f555-4b3c5816ff55"
      },
      "source": [
        "# Import from keras\n",
        "from keras.models import Sequential\n",
        "from keras.layers import Dropout, Dense, LSTM\n",
        "\n",
        "# Import cufflinks for visualization\n",
        "import cufflinks as cf\n",
        "cf.set_config_file(offline=True)\n",
        "\n",
        "# Ignore warnings\n",
        "import warnings\n",
        "warnings.filterwarnings('ignore')\n",
        "\n",
        "\n",
        "# Instantiate the Sequential Model\n",
        "model = Sequential()\n",
        "\n",
        "# Add first layer with dropout regularisation with 256 neurons and inputs shape for 1st set\n",
        "model.add(LSTM(units=256, input_shape = (X_train.shape[1],X_train.shape[2]), return_sequences=True)) \n",
        "model.add(Dropout(0.2))\n",
        "\n",
        "# Add second layer with dropout\n",
        "model.add(LSTM(units=256, return_sequences=True))\n",
        "model.add(Dropout(0.2))\n",
        "\n",
        "# Add third layer with dropout\n",
        "model.add(LSTM(units=256, return_sequences=False))\n",
        "model.add(Dropout(0.2))\n",
        "\n",
        "\n",
        "\n",
        "\n",
        "# Add a Dense layer\n",
        "model.add(Dense(64,  activation = 'relu'))\n",
        "\n",
        "# Add the output layer\n",
        "model.add(Dense(1))"
      ],
      "execution_count": null,
      "outputs": [
        {
          "output_type": "stream",
          "text": [
            "Using TensorFlow backend.\n"
          ],
          "name": "stderr"
        },
        {
          "output_type": "display_data",
          "data": {
            "text/html": [
              "        <script type=\"text/javascript\">\n",
              "        window.PlotlyConfig = {MathJaxConfig: 'local'};\n",
              "        if (window.MathJax) {MathJax.Hub.Config({SVG: {font: \"STIX-Web\"}});}\n",
              "        if (typeof require !== 'undefined') {\n",
              "        require.undef(\"plotly\");\n",
              "        requirejs.config({\n",
              "            paths: {\n",
              "                'plotly': ['https://cdn.plot.ly/plotly-latest.min']\n",
              "            }\n",
              "        });\n",
              "        require(['plotly'], function(Plotly) {\n",
              "            window._Plotly = Plotly;\n",
              "        });\n",
              "        }\n",
              "        </script>\n",
              "        "
            ]
          },
          "metadata": {
            "tags": []
          }
        }
      ]
    },
    {
      "cell_type": "code",
      "metadata": {
        "id": "QzepSgxoq0GE",
        "colab_type": "code",
        "colab": {
          "base_uri": "https://localhost:8080/",
          "height": 425
        },
        "outputId": "6d333dbe-ebca-44bb-e160-817ea39d4104"
      },
      "source": [
        "model.summary()"
      ],
      "execution_count": null,
      "outputs": [
        {
          "output_type": "stream",
          "text": [
            "Model: \"sequential_1\"\n",
            "_________________________________________________________________\n",
            "Layer (type)                 Output Shape              Param #   \n",
            "=================================================================\n",
            "lstm_1 (LSTM)                (None, 60, 256)           279552    \n",
            "_________________________________________________________________\n",
            "dropout_1 (Dropout)          (None, 60, 256)           0         \n",
            "_________________________________________________________________\n",
            "lstm_2 (LSTM)                (None, 60, 256)           525312    \n",
            "_________________________________________________________________\n",
            "dropout_2 (Dropout)          (None, 60, 256)           0         \n",
            "_________________________________________________________________\n",
            "lstm_3 (LSTM)                (None, 256)               525312    \n",
            "_________________________________________________________________\n",
            "dropout_3 (Dropout)          (None, 256)               0         \n",
            "_________________________________________________________________\n",
            "dense_1 (Dense)              (None, 64)                16448     \n",
            "_________________________________________________________________\n",
            "dense_2 (Dense)              (None, 1)                 65        \n",
            "=================================================================\n",
            "Total params: 1,346,689\n",
            "Trainable params: 1,346,689\n",
            "Non-trainable params: 0\n",
            "_________________________________________________________________\n"
          ],
          "name": "stdout"
        }
      ]
    },
    {
      "cell_type": "code",
      "metadata": {
        "id": "3pNWCPjFrJm0",
        "colab_type": "code",
        "colab": {}
      },
      "source": [
        "model.get_weights()"
      ],
      "execution_count": null,
      "outputs": []
    },
    {
      "cell_type": "code",
      "metadata": {
        "id": "vPySdgEcrLjB",
        "colab_type": "code",
        "colab": {}
      },
      "source": [
        "model.compile(optimizer = \"RMSProp\", loss = \"mean_squared_error\")"
      ],
      "execution_count": null,
      "outputs": []
    },
    {
      "cell_type": "code",
      "metadata": {
        "id": "mjlEBtgtreWp",
        "colab_type": "code",
        "colab": {}
      },
      "source": [
        "# Training the model to the training dataset\n",
        "history = model.fit(X_train, y_train, batch_size=64, epochs=20, verbose=1, validation_split=0.05, shuffle=False)"
      ],
      "execution_count": null,
      "outputs": []
    },
    {
      "cell_type": "code",
      "metadata": {
        "id": "zwIzM7y1riQG",
        "colab_type": "code",
        "colab": {
          "base_uri": "https://localhost:8080/",
          "height": 298
        },
        "outputId": "caedc1e9-9308-4077-e13a-2d42168fd4d1"
      },
      "source": [
        "# Visualize the training and validation loss\n",
        "loss_df = pd.DataFrame({'train': history.history['loss'], 'validation': history.history['val_loss']})\n",
        "\n",
        "loss_df.plot(title='Training/Validation Loss')"
      ],
      "execution_count": null,
      "outputs": [
        {
          "output_type": "execute_result",
          "data": {
            "text/plain": [
              "<matplotlib.axes._subplots.AxesSubplot at 0x7fe7da140518>"
            ]
          },
          "metadata": {
            "tags": []
          },
          "execution_count": 24
        },
        {
          "output_type": "display_data",
          "data": {
            "image/png": "[encoded data removed]",
            "text/plain": [
              "<Figure size 432x288 with 1 Axes>"
            ]
          },
          "metadata": {
            "tags": [],
            "needs_background": "light"
          }
        }
      ]
    },
    {
      "cell_type": "code",
      "metadata": {
        "id": "oAOL_WxovRYV",
        "colab_type": "code",
        "colab": {
          "base_uri": "https://localhost:8080/",
          "height": 51
        },
        "outputId": "6c1af2fe-15f4-4b1c-b8bb-5f2e1da668c1"
      },
      "source": [
        "# Evaluate the model >> model.metrics_names\n",
        "model.evaluate(X_train, y_train , verbose=1)"
      ],
      "execution_count": null,
      "outputs": [
        {
          "output_type": "stream",
          "text": [
            "3940/3940 [==============================] - 26s 7ms/step\n"
          ],
          "name": "stdout"
        },
        {
          "output_type": "execute_result",
          "data": {
            "text/plain": [
              "0.011841343251444184"
            ]
          },
          "metadata": {
            "tags": []
          },
          "execution_count": 25
        }
      ]
    },
    {
      "cell_type": "code",
      "metadata": {
        "id": "sXNTgU8ww8Pz",
        "colab_type": "code",
        "colab": {
          "base_uri": "https://localhost:8080/",
          "height": 34
        },
        "outputId": "c04cbbd7-3474-4716-b8c7-aa92cca42cac"
      },
      "source": [
        "# Building the array\n",
        "\n",
        "X_test = []\n",
        "y_test = test_data[60:, -3:-2]\n",
        "timesteps = 60\n",
        "\n",
        "for i in range(timesteps, len(scaled_test_data)):\n",
        "    X_test.append(scaled_test_data[i-timesteps:i, :])\n",
        "\n",
        "# Converting x_train and y_train to Numpy arrays\n",
        "X_test = np.array(X_test)\n",
        "\n",
        "\n",
        "# Check the array size\n",
        "X_test.shape"
      ],
      "execution_count": null,
      "outputs": [
        {
          "output_type": "execute_result",
          "data": {
            "text/plain": [
              "(940, 60, 16)"
            ]
          },
          "metadata": {
            "tags": []
          },
          "execution_count": 26
        }
      ]
    },
    {
      "cell_type": "code",
      "metadata": {
        "id": "HIYYR3mVyId-",
        "colab_type": "code",
        "colab": {
          "base_uri": "https://localhost:8080/",
          "height": 34
        },
        "outputId": "57d251a6-8da0-48d4-ff33-f09b2075ac77"
      },
      "source": [
        "y_test.shape, X_test.shape"
      ],
      "execution_count": null,
      "outputs": [
        {
          "output_type": "execute_result",
          "data": {
            "text/plain": [
              "((940, 1), (940, 60, 16))"
            ]
          },
          "metadata": {
            "tags": []
          },
          "execution_count": 27
        }
      ]
    },
    {
      "cell_type": "code",
      "metadata": {
        "id": "t3Fa6L10xb0d",
        "colab_type": "code",
        "colab": {
          "base_uri": "https://localhost:8080/",
          "height": 34
        },
        "outputId": "bac1be8a-1ce0-473c-9231-d7e189ffac01"
      },
      "source": [
        "# Scale the data by transforming\n",
        "y_pred = model.predict(X_test)\n",
        "# create empty table with 16 fields\n",
        "trainPredict_dataset_like = np.zeros(shape=(len(y_pred), 16))\n",
        "# put the predicted values in the right field\n",
        "trainPredict_dataset_like[:,-2] = y_pred[:,0]\n",
        "# inverse transform and then select the right field\n",
        "\n",
        "\n",
        "predicted_price = scaler.inverse_transform(trainPredict_dataset_like)[:,-2]\n",
        "#predicted_price = scaler.inverse_transform(y_pred)\n",
        "predicted_price[2], y_test[2]"
      ],
      "execution_count": null,
      "outputs": [
        {
          "output_type": "execute_result",
          "data": {
            "text/plain": [
              "(155.0858073771, array([147.79], dtype=object))"
            ]
          },
          "metadata": {
            "tags": []
          },
          "execution_count": 28
        }
      ]
    },
    {
      "cell_type": "code",
      "metadata": {
        "id": "u-eJqZk0ON_K",
        "colab_type": "code",
        "colab": {
          "base_uri": "https://localhost:8080/",
          "height": 34
        },
        "outputId": "3a7ed0e7-1451-462c-e917-267fd2e4e846"
      },
      "source": [
        "rmse = np.sqrt(np.mean((predicted_price - y_test)**2))\n",
        "rmse"
      ],
      "execution_count": null,
      "outputs": [
        {
          "output_type": "execute_result",
          "data": {
            "text/plain": [
              "20.97457820619198"
            ]
          },
          "metadata": {
            "tags": []
          },
          "execution_count": 53
        }
      ]
    },
    {
      "cell_type": "code",
      "metadata": {
        "id": "zLT-ye_u3hIt",
        "colab_type": "code",
        "colab": {
          "base_uri": "https://localhost:8080/",
          "height": 298
        },
        "outputId": "3f648b94-edff-4d7b-d135-7d8b97df69e2"
      },
      "source": [
        "result = pd.DataFrame(predicted_price)\n",
        "result.columns = ['IBM(Pred)']\n",
        "result['IBM'] = y_test\n",
        "\n",
        "result.plot(title='Actual Vs Predicted Values')"
      ],
      "execution_count": null,
      "outputs": [
        {
          "output_type": "execute_result",
          "data": {
            "text/plain": [
              "<matplotlib.axes._subplots.AxesSubplot at 0x7fe7d9230390>"
            ]
          },
          "metadata": {
            "tags": []
          },
          "execution_count": 30
        },
        {
          "output_type": "display_data",
          "data": {
            "image/png": "[encoded data removed]",
            "text/plain": [
              "<Figure size 432x288 with 1 Axes>"
            ]
          },
          "metadata": {
            "tags": [],
            "needs_background": "light"
          }
        }
      ]
    },
    {
      "cell_type": "code",
      "metadata": {
        "id": "KkrcuR3owLDv",
        "colab_type": "code",
        "colab": {
          "base_uri": "https://localhost:8080/",
          "height": 204
        },
        "outputId": "2a87ccf6-128a-46f4-e7b6-a73b03aad320"
      },
      "source": [
        "ibm_df.tail()"
      ],
      "execution_count": null,
      "outputs": [
        {
          "output_type": "execute_result",
          "data": {
            "text/html": [
              "<div>\n",
              "<style scoped>\n",
              "    .dataframe tbody tr th:only-of-type {\n",
              "        vertical-align: middle;\n",
              "    }\n",
              "\n",
              "    .dataframe tbody tr th {\n",
              "        vertical-align: top;\n",
              "    }\n",
              "\n",
              "    .dataframe thead th {\n",
              "        text-align: right;\n",
              "    }\n",
              "</style>\n",
              "<table border=\"1\" class=\"dataframe\">\n",
              "  <thead>\n",
              "    <tr style=\"text-align: right;\">\n",
              "      <th></th>\n",
              "      <th>date</th>\n",
              "      <th>SMA</th>\n",
              "      <th>EMA</th>\n",
              "      <th>RSI</th>\n",
              "      <th>Real Upper Band</th>\n",
              "      <th>Real Lower Band</th>\n",
              "      <th>Real Middle Band</th>\n",
              "      <th>MACD</th>\n",
              "      <th>MACD_Hist</th>\n",
              "      <th>MACD_Signal</th>\n",
              "      <th>CCI</th>\n",
              "      <th>ATR</th>\n",
              "      <th>1. open</th>\n",
              "      <th>2. high</th>\n",
              "      <th>3. low</th>\n",
              "      <th>4. close</th>\n",
              "      <th>5. volume</th>\n",
              "    </tr>\n",
              "  </thead>\n",
              "  <tbody>\n",
              "    <tr>\n",
              "      <th>4995</th>\n",
              "      <td>2020-07-06</td>\n",
              "      <td>120.5714</td>\n",
              "      <td>120.6067</td>\n",
              "      <td>47.3451</td>\n",
              "      <td>132.1426</td>\n",
              "      <td>112.5634</td>\n",
              "      <td>122.3530</td>\n",
              "      <td>-1.2255</td>\n",
              "      <td>-0.2890</td>\n",
              "      <td>-0.9365</td>\n",
              "      <td>-37.3526</td>\n",
              "      <td>3.5480</td>\n",
              "      <td>121.25</td>\n",
              "      <td>121.85</td>\n",
              "      <td>119.46</td>\n",
              "      <td>120.19</td>\n",
              "      <td>4044200.0</td>\n",
              "    </tr>\n",
              "    <tr>\n",
              "      <th>4996</th>\n",
              "      <td>2020-07-07</td>\n",
              "      <td>120.0307</td>\n",
              "      <td>120.2031</td>\n",
              "      <td>43.1380</td>\n",
              "      <td>129.2673</td>\n",
              "      <td>113.6217</td>\n",
              "      <td>121.4445</td>\n",
              "      <td>-1.3553</td>\n",
              "      <td>-0.3350</td>\n",
              "      <td>-1.0203</td>\n",
              "      <td>-80.7584</td>\n",
              "      <td>3.5136</td>\n",
              "      <td>119.00</td>\n",
              "      <td>119.51</td>\n",
              "      <td>117.33</td>\n",
              "      <td>117.58</td>\n",
              "      <td>4278100.0</td>\n",
              "    </tr>\n",
              "    <tr>\n",
              "      <th>4997</th>\n",
              "      <td>2020-07-08</td>\n",
              "      <td>119.5707</td>\n",
              "      <td>119.8707</td>\n",
              "      <td>43.4077</td>\n",
              "      <td>127.0802</td>\n",
              "      <td>114.3928</td>\n",
              "      <td>120.7365</td>\n",
              "      <td>-1.4312</td>\n",
              "      <td>-0.3288</td>\n",
              "      <td>-1.1025</td>\n",
              "      <td>-95.6587</td>\n",
              "      <td>3.4459</td>\n",
              "      <td>118.06</td>\n",
              "      <td>118.64</td>\n",
              "      <td>116.48</td>\n",
              "      <td>117.71</td>\n",
              "      <td>5191800.0</td>\n",
              "    </tr>\n",
              "    <tr>\n",
              "      <th>4998</th>\n",
              "      <td>2020-07-09</td>\n",
              "      <td>118.9671</td>\n",
              "      <td>119.3160</td>\n",
              "      <td>40.2446</td>\n",
              "      <td>125.1866</td>\n",
              "      <td>114.8704</td>\n",
              "      <td>120.0285</td>\n",
              "      <td>-1.6339</td>\n",
              "      <td>-0.4252</td>\n",
              "      <td>-1.2087</td>\n",
              "      <td>-135.3397</td>\n",
              "      <td>3.4136</td>\n",
              "      <td>118.00</td>\n",
              "      <td>118.00</td>\n",
              "      <td>115.20</td>\n",
              "      <td>115.71</td>\n",
              "      <td>4760900.0</td>\n",
              "    </tr>\n",
              "    <tr>\n",
              "      <th>4999</th>\n",
              "      <td>2020-07-10</td>\n",
              "      <td>118.6729</td>\n",
              "      <td>119.1872</td>\n",
              "      <td>45.8535</td>\n",
              "      <td>125.1791</td>\n",
              "      <td>114.9119</td>\n",
              "      <td>120.0455</td>\n",
              "      <td>-1.5635</td>\n",
              "      <td>-0.2838</td>\n",
              "      <td>-1.2797</td>\n",
              "      <td>-86.9297</td>\n",
              "      <td>3.4069</td>\n",
              "      <td>115.50</td>\n",
              "      <td>118.57</td>\n",
              "      <td>115.29</td>\n",
              "      <td>118.35</td>\n",
              "      <td>4285100.0</td>\n",
              "    </tr>\n",
              "  </tbody>\n",
              "</table>\n",
              "</div>"
            ],
            "text/plain": [
              "            date       SMA       EMA  ...  3. low  4. close  5. volume\n",
              "4995  2020-07-06  120.5714  120.6067  ...  119.46    120.19  4044200.0\n",
              "4996  2020-07-07  120.0307  120.2031  ...  117.33    117.58  4278100.0\n",
              "4997  2020-07-08  119.5707  119.8707  ...  116.48    117.71  5191800.0\n",
              "4998  2020-07-09  118.9671  119.3160  ...  115.20    115.71  4760900.0\n",
              "4999  2020-07-10  118.6729  119.1872  ...  115.29    118.35  4285100.0\n",
              "\n",
              "[5 rows x 17 columns]"
            ]
          },
          "metadata": {
            "tags": []
          },
          "execution_count": 31
        }
      ]
    },
    {
      "cell_type": "code",
      "metadata": {
        "id": "HHvwJ3FvyOB7",
        "colab_type": "code",
        "colab": {
          "base_uri": "https://localhost:8080/",
          "height": 85
        },
        "outputId": "595f9ae1-5567-4fc2-e075-e6696e83138c"
      },
      "source": [
        "X_test[-1][-1, :]"
      ],
      "execution_count": null,
      "outputs": [
        {
          "output_type": "execute_result",
          "data": {
            "text/plain": [
              "array([0.3877769 , 0.39032544, 0.42000748, 0.36754899, 0.40715907,\n",
              "       0.38988644, 0.45249371, 0.44745886, 0.48961843, 0.39023864,\n",
              "       0.48724609, 0.39413924, 0.38505025, 0.38174559, 0.37727867,\n",
              "       0.09291734])"
            ]
          },
          "metadata": {
            "tags": []
          },
          "execution_count": 32
        }
      ]
    },
    {
      "cell_type": "code",
      "metadata": {
        "id": "EdXswVLpylpi",
        "colab_type": "code",
        "colab": {}
      },
      "source": [
        "# Scale the data by transforming\n",
        "y_pred = model.predict(X_test)\n",
        "# create empty table with 16 fields\n",
        "trainPredict_dataset_like = np.zeros(shape=(len(y_pred), 16))\n",
        "# put the predicted values in the right field\n",
        "trainPredict_dataset_like[:,-2] = y_pred[:,0]\n",
        "# inverse transform and then select the right field\n",
        "\n",
        "\n",
        "predicted_price = scaler.inverse_transform(trainPredict_dataset_like)[:,-2]\n",
        "#predicted_price = scaler.inverse_transform(y_pred)\n"
      ],
      "execution_count": null,
      "outputs": []
    },
    {
      "cell_type": "code",
      "metadata": {
        "id": "jC1NGCr9zDqf",
        "colab_type": "code",
        "colab": {
          "base_uri": "https://localhost:8080/",
          "height": 274
        },
        "outputId": "598b47a0-8034-4424-b7b5-d20054adfc7d"
      },
      "source": [
        "predicted_price[-60:-1]"
      ],
      "execution_count": null,
      "outputs": [
        {
          "output_type": "execute_result",
          "data": {
            "text/plain": [
              "array([115.18831037, 113.75190448, 113.38046364, 113.38756261,\n",
              "       111.40843052, 111.54380909, 113.08671388, 115.65076842,\n",
              "       118.43096787, 120.79675904, 122.96101519, 123.82639   ,\n",
              "       123.58582981, 123.14735114, 123.49430964, 124.35918628,\n",
              "       124.83604345, 125.4989779 , 126.30668437, 126.52892233,\n",
              "       125.15346602, 123.56750278, 122.90335163, 124.247241  ,\n",
              "       125.82038586, 127.20052691, 127.67637816, 127.56460533,\n",
              "       128.18105639, 129.8315139 , 131.56073548, 132.17199883,\n",
              "       133.17303963, 134.23814359, 135.66377648, 136.79358548,\n",
              "       138.14452591, 139.68159154, 140.12658478, 139.97997814,\n",
              "       136.5054689 , 133.7461592 , 131.79834974, 131.53982178,\n",
              "       131.99653168, 132.37486072, 131.87454151, 131.25780304,\n",
              "       130.2754629 , 128.69667048, 127.97125839, 127.00668962,\n",
              "       127.69054735, 128.93793482, 129.51822521, 130.03404048,\n",
              "       130.47363525, 130.0576606 , 129.31686263])"
            ]
          },
          "metadata": {
            "tags": []
          },
          "execution_count": 34
        }
      ]
    },
    {
      "cell_type": "code",
      "metadata": {
        "id": "FHuODrGazY03",
        "colab_type": "code",
        "colab": {
          "base_uri": "https://localhost:8080/",
          "height": 282
        },
        "outputId": "84d6e348-2252-4e34-83dd-ebc197c7c0ce"
      },
      "source": [
        "prediction_df = pd.DataFrame({'predicted': predicted_price[-60: -1: 1]})\n",
        "prediction_df.plot()"
      ],
      "execution_count": null,
      "outputs": [
        {
          "output_type": "execute_result",
          "data": {
            "text/plain": [
              "<matplotlib.axes._subplots.AxesSubplot at 0x7fe7d92087f0>"
            ]
          },
          "metadata": {
            "tags": []
          },
          "execution_count": 35
        },
        {
          "output_type": "display_data",
          "data": {
            "image/png": "[encoded data removed]",
            "text/plain": [
              "<Figure size 432x288 with 1 Axes>"
            ]
          },
          "metadata": {
            "tags": [],
            "needs_background": "light"
          }
        }
      ]
    },
    {
      "cell_type": "markdown",
      "metadata": {
        "id": "8p_PRNRm6U9g",
        "colab_type": "text"
      },
      "source": [
        ""
      ]
    },
    {
      "cell_type": "code",
      "metadata": {
        "id": "AqQ0zyDU0wyv",
        "colab_type": "code",
        "colab": {
          "base_uri": "https://localhost:8080/",
          "height": 1000
        },
        "outputId": "47e1fd38-4b89-440e-89f8-00fdab643848"
      },
      "source": [
        "prediction_df[\"price_direction\"] = np.sign(prediction_df[\"predicted\"].shift(-1) - prediction_df[\"predicted\"])\n",
        "prediction_df"
      ],
      "execution_count": null,
      "outputs": [
        {
          "output_type": "execute_result",
          "data": {
            "text/html": [
              "<div>\n",
              "<style scoped>\n",
              "    .dataframe tbody tr th:only-of-type {\n",
              "        vertical-align: middle;\n",
              "    }\n",
              "\n",
              "    .dataframe tbody tr th {\n",
              "        vertical-align: top;\n",
              "    }\n",
              "\n",
              "    .dataframe thead th {\n",
              "        text-align: right;\n",
              "    }\n",
              "</style>\n",
              "<table border=\"1\" class=\"dataframe\">\n",
              "  <thead>\n",
              "    <tr style=\"text-align: right;\">\n",
              "      <th></th>\n",
              "      <th>predicted</th>\n",
              "      <th>price_direction</th>\n",
              "    </tr>\n",
              "  </thead>\n",
              "  <tbody>\n",
              "    <tr>\n",
              "      <th>0</th>\n",
              "      <td>115.188310</td>\n",
              "      <td>-1.0</td>\n",
              "    </tr>\n",
              "    <tr>\n",
              "      <th>1</th>\n",
              "      <td>113.751904</td>\n",
              "      <td>-1.0</td>\n",
              "    </tr>\n",
              "    <tr>\n",
              "      <th>2</th>\n",
              "      <td>113.380464</td>\n",
              "      <td>1.0</td>\n",
              "    </tr>\n",
              "    <tr>\n",
              "      <th>3</th>\n",
              "      <td>113.387563</td>\n",
              "      <td>-1.0</td>\n",
              "    </tr>\n",
              "    <tr>\n",
              "      <th>4</th>\n",
              "      <td>111.408431</td>\n",
              "      <td>1.0</td>\n",
              "    </tr>\n",
              "    <tr>\n",
              "      <th>5</th>\n",
              "      <td>111.543809</td>\n",
              "      <td>1.0</td>\n",
              "    </tr>\n",
              "    <tr>\n",
              "      <th>6</th>\n",
              "      <td>113.086714</td>\n",
              "      <td>1.0</td>\n",
              "    </tr>\n",
              "    <tr>\n",
              "      <th>7</th>\n",
              "      <td>115.650768</td>\n",
              "      <td>1.0</td>\n",
              "    </tr>\n",
              "    <tr>\n",
              "      <th>8</th>\n",
              "      <td>118.430968</td>\n",
              "      <td>1.0</td>\n",
              "    </tr>\n",
              "    <tr>\n",
              "      <th>9</th>\n",
              "      <td>120.796759</td>\n",
              "      <td>1.0</td>\n",
              "    </tr>\n",
              "    <tr>\n",
              "      <th>10</th>\n",
              "      <td>122.961015</td>\n",
              "      <td>1.0</td>\n",
              "    </tr>\n",
              "    <tr>\n",
              "      <th>11</th>\n",
              "      <td>123.826390</td>\n",
              "      <td>-1.0</td>\n",
              "    </tr>\n",
              "    <tr>\n",
              "      <th>12</th>\n",
              "      <td>123.585830</td>\n",
              "      <td>-1.0</td>\n",
              "    </tr>\n",
              "    <tr>\n",
              "      <th>13</th>\n",
              "      <td>123.147351</td>\n",
              "      <td>1.0</td>\n",
              "    </tr>\n",
              "    <tr>\n",
              "      <th>14</th>\n",
              "      <td>123.494310</td>\n",
              "      <td>1.0</td>\n",
              "    </tr>\n",
              "    <tr>\n",
              "      <th>15</th>\n",
              "      <td>124.359186</td>\n",
              "      <td>1.0</td>\n",
              "    </tr>\n",
              "    <tr>\n",
              "      <th>16</th>\n",
              "      <td>124.836043</td>\n",
              "      <td>1.0</td>\n",
              "    </tr>\n",
              "    <tr>\n",
              "      <th>17</th>\n",
              "      <td>125.498978</td>\n",
              "      <td>1.0</td>\n",
              "    </tr>\n",
              "    <tr>\n",
              "      <th>18</th>\n",
              "      <td>126.306684</td>\n",
              "      <td>1.0</td>\n",
              "    </tr>\n",
              "    <tr>\n",
              "      <th>19</th>\n",
              "      <td>126.528922</td>\n",
              "      <td>-1.0</td>\n",
              "    </tr>\n",
              "    <tr>\n",
              "      <th>20</th>\n",
              "      <td>125.153466</td>\n",
              "      <td>-1.0</td>\n",
              "    </tr>\n",
              "    <tr>\n",
              "      <th>21</th>\n",
              "      <td>123.567503</td>\n",
              "      <td>-1.0</td>\n",
              "    </tr>\n",
              "    <tr>\n",
              "      <th>22</th>\n",
              "      <td>122.903352</td>\n",
              "      <td>1.0</td>\n",
              "    </tr>\n",
              "    <tr>\n",
              "      <th>23</th>\n",
              "      <td>124.247241</td>\n",
              "      <td>1.0</td>\n",
              "    </tr>\n",
              "    <tr>\n",
              "      <th>24</th>\n",
              "      <td>125.820386</td>\n",
              "      <td>1.0</td>\n",
              "    </tr>\n",
              "    <tr>\n",
              "      <th>25</th>\n",
              "      <td>127.200527</td>\n",
              "      <td>1.0</td>\n",
              "    </tr>\n",
              "    <tr>\n",
              "      <th>26</th>\n",
              "      <td>127.676378</td>\n",
              "      <td>-1.0</td>\n",
              "    </tr>\n",
              "    <tr>\n",
              "      <th>27</th>\n",
              "      <td>127.564605</td>\n",
              "      <td>1.0</td>\n",
              "    </tr>\n",
              "    <tr>\n",
              "      <th>28</th>\n",
              "      <td>128.181056</td>\n",
              "      <td>1.0</td>\n",
              "    </tr>\n",
              "    <tr>\n",
              "      <th>29</th>\n",
              "      <td>129.831514</td>\n",
              "      <td>1.0</td>\n",
              "    </tr>\n",
              "    <tr>\n",
              "      <th>30</th>\n",
              "      <td>131.560735</td>\n",
              "      <td>1.0</td>\n",
              "    </tr>\n",
              "    <tr>\n",
              "      <th>31</th>\n",
              "      <td>132.171999</td>\n",
              "      <td>1.0</td>\n",
              "    </tr>\n",
              "    <tr>\n",
              "      <th>32</th>\n",
              "      <td>133.173040</td>\n",
              "      <td>1.0</td>\n",
              "    </tr>\n",
              "    <tr>\n",
              "      <th>33</th>\n",
              "      <td>134.238144</td>\n",
              "      <td>1.0</td>\n",
              "    </tr>\n",
              "    <tr>\n",
              "      <th>34</th>\n",
              "      <td>135.663776</td>\n",
              "      <td>1.0</td>\n",
              "    </tr>\n",
              "    <tr>\n",
              "      <th>35</th>\n",
              "      <td>136.793585</td>\n",
              "      <td>1.0</td>\n",
              "    </tr>\n",
              "    <tr>\n",
              "      <th>36</th>\n",
              "      <td>138.144526</td>\n",
              "      <td>1.0</td>\n",
              "    </tr>\n",
              "    <tr>\n",
              "      <th>37</th>\n",
              "      <td>139.681592</td>\n",
              "      <td>1.0</td>\n",
              "    </tr>\n",
              "    <tr>\n",
              "      <th>38</th>\n",
              "      <td>140.126585</td>\n",
              "      <td>-1.0</td>\n",
              "    </tr>\n",
              "    <tr>\n",
              "      <th>39</th>\n",
              "      <td>139.979978</td>\n",
              "      <td>-1.0</td>\n",
              "    </tr>\n",
              "    <tr>\n",
              "      <th>40</th>\n",
              "      <td>136.505469</td>\n",
              "      <td>-1.0</td>\n",
              "    </tr>\n",
              "    <tr>\n",
              "      <th>41</th>\n",
              "      <td>133.746159</td>\n",
              "      <td>-1.0</td>\n",
              "    </tr>\n",
              "    <tr>\n",
              "      <th>42</th>\n",
              "      <td>131.798350</td>\n",
              "      <td>-1.0</td>\n",
              "    </tr>\n",
              "    <tr>\n",
              "      <th>43</th>\n",
              "      <td>131.539822</td>\n",
              "      <td>1.0</td>\n",
              "    </tr>\n",
              "    <tr>\n",
              "      <th>44</th>\n",
              "      <td>131.996532</td>\n",
              "      <td>1.0</td>\n",
              "    </tr>\n",
              "    <tr>\n",
              "      <th>45</th>\n",
              "      <td>132.374861</td>\n",
              "      <td>-1.0</td>\n",
              "    </tr>\n",
              "    <tr>\n",
              "      <th>46</th>\n",
              "      <td>131.874542</td>\n",
              "      <td>-1.0</td>\n",
              "    </tr>\n",
              "    <tr>\n",
              "      <th>47</th>\n",
              "      <td>131.257803</td>\n",
              "      <td>-1.0</td>\n",
              "    </tr>\n",
              "    <tr>\n",
              "      <th>48</th>\n",
              "      <td>130.275463</td>\n",
              "      <td>-1.0</td>\n",
              "    </tr>\n",
              "    <tr>\n",
              "      <th>49</th>\n",
              "      <td>128.696670</td>\n",
              "      <td>-1.0</td>\n",
              "    </tr>\n",
              "    <tr>\n",
              "      <th>50</th>\n",
              "      <td>127.971258</td>\n",
              "      <td>-1.0</td>\n",
              "    </tr>\n",
              "    <tr>\n",
              "      <th>51</th>\n",
              "      <td>127.006690</td>\n",
              "      <td>1.0</td>\n",
              "    </tr>\n",
              "    <tr>\n",
              "      <th>52</th>\n",
              "      <td>127.690547</td>\n",
              "      <td>1.0</td>\n",
              "    </tr>\n",
              "    <tr>\n",
              "      <th>53</th>\n",
              "      <td>128.937935</td>\n",
              "      <td>1.0</td>\n",
              "    </tr>\n",
              "    <tr>\n",
              "      <th>54</th>\n",
              "      <td>129.518225</td>\n",
              "      <td>1.0</td>\n",
              "    </tr>\n",
              "    <tr>\n",
              "      <th>55</th>\n",
              "      <td>130.034040</td>\n",
              "      <td>1.0</td>\n",
              "    </tr>\n",
              "    <tr>\n",
              "      <th>56</th>\n",
              "      <td>130.473635</td>\n",
              "      <td>-1.0</td>\n",
              "    </tr>\n",
              "    <tr>\n",
              "      <th>57</th>\n",
              "      <td>130.057661</td>\n",
              "      <td>-1.0</td>\n",
              "    </tr>\n",
              "    <tr>\n",
              "      <th>58</th>\n",
              "      <td>129.316863</td>\n",
              "      <td>NaN</td>\n",
              "    </tr>\n",
              "  </tbody>\n",
              "</table>\n",
              "</div>"
            ],
            "text/plain": [
              "     predicted  price_direction\n",
              "0   115.188310             -1.0\n",
              "1   113.751904             -1.0\n",
              "2   113.380464              1.0\n",
              "3   113.387563             -1.0\n",
              "4   111.408431              1.0\n",
              "5   111.543809              1.0\n",
              "6   113.086714              1.0\n",
              "7   115.650768              1.0\n",
              "8   118.430968              1.0\n",
              "9   120.796759              1.0\n",
              "10  122.961015              1.0\n",
              "11  123.826390             -1.0\n",
              "12  123.585830             -1.0\n",
              "13  123.147351              1.0\n",
              "14  123.494310              1.0\n",
              "15  124.359186              1.0\n",
              "16  124.836043              1.0\n",
              "17  125.498978              1.0\n",
              "18  126.306684              1.0\n",
              "19  126.528922             -1.0\n",
              "20  125.153466             -1.0\n",
              "21  123.567503             -1.0\n",
              "22  122.903352              1.0\n",
              "23  124.247241              1.0\n",
              "24  125.820386              1.0\n",
              "25  127.200527              1.0\n",
              "26  127.676378             -1.0\n",
              "27  127.564605              1.0\n",
              "28  128.181056              1.0\n",
              "29  129.831514              1.0\n",
              "30  131.560735              1.0\n",
              "31  132.171999              1.0\n",
              "32  133.173040              1.0\n",
              "33  134.238144              1.0\n",
              "34  135.663776              1.0\n",
              "35  136.793585              1.0\n",
              "36  138.144526              1.0\n",
              "37  139.681592              1.0\n",
              "38  140.126585             -1.0\n",
              "39  139.979978             -1.0\n",
              "40  136.505469             -1.0\n",
              "41  133.746159             -1.0\n",
              "42  131.798350             -1.0\n",
              "43  131.539822              1.0\n",
              "44  131.996532              1.0\n",
              "45  132.374861             -1.0\n",
              "46  131.874542             -1.0\n",
              "47  131.257803             -1.0\n",
              "48  130.275463             -1.0\n",
              "49  128.696670             -1.0\n",
              "50  127.971258             -1.0\n",
              "51  127.006690              1.0\n",
              "52  127.690547              1.0\n",
              "53  128.937935              1.0\n",
              "54  129.518225              1.0\n",
              "55  130.034040              1.0\n",
              "56  130.473635             -1.0\n",
              "57  130.057661             -1.0\n",
              "58  129.316863              NaN"
            ]
          },
          "metadata": {
            "tags": []
          },
          "execution_count": 36
        }
      ]
    },
    {
      "cell_type": "code",
      "metadata": {
        "id": "PFOa_G3F25-2",
        "colab_type": "code",
        "colab": {}
      },
      "source": [
        "old_pred_df = pd.DataFrame({'predicted': predicted_price, 'actual': y_test[:, 0]})\n",
        "#old_pred_df[\"predicted_movement\"] = np.sign(old_pred_df[\"predicted\"].shift(-1) - old_pred_df[\"predicted\"])\n",
        "#old_pred_df[\"true_movement\"] = np.sign(old_pred_df[\"actual\"].shift(-1) - old_pred_df[\"actual\"])\n",
        "#old_pred_df[\"correct_prediction\"] = df[\"predicted_movement\"] - old_pred_df[\"true_movement#\"]"
      ],
      "execution_count": null,
      "outputs": []
    },
    {
      "cell_type": "code",
      "metadata": {
        "id": "KXy8UUH-Bm2W",
        "colab_type": "code",
        "colab": {
          "base_uri": "https://localhost:8080/",
          "height": 282
        },
        "outputId": "2f3f9420-460e-49bf-acd8-02feafdc8e5c"
      },
      "source": [
        "old_pred_df.iloc[-60:-1].plot()"
      ],
      "execution_count": null,
      "outputs": [
        {
          "output_type": "execute_result",
          "data": {
            "text/plain": [
              "<matplotlib.axes._subplots.AxesSubplot at 0x7fe7d9197240>"
            ]
          },
          "metadata": {
            "tags": []
          },
          "execution_count": 38
        },
        {
          "output_type": "display_data",
          "data": {
            "image/png": "[encoded data removed]",
            "text/plain": [
              "<Figure size 432x288 with 1 Axes>"
            ]
          },
          "metadata": {
            "tags": [],
            "needs_background": "light"
          }
        }
      ]
    }
  ]
}